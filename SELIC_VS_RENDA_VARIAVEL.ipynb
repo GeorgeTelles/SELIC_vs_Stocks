{
  "nbformat": 4,
  "nbformat_minor": 0,
  "metadata": {
    "colab": {
      "provenance": [],
      "authorship_tag": "ABX9TyMZQa1qBRHjvYYirTISu1mK",
      "include_colab_link": true
    },
    "kernelspec": {
      "name": "python3",
      "display_name": "Python 3"
    },
    "language_info": {
      "name": "python"
    }
  },
  "cells": [
    {
      "cell_type": "markdown",
      "metadata": {
        "id": "view-in-github",
        "colab_type": "text"
      },
      "source": [
        "<a href=\"https://colab.research.google.com/github/GeorgeTelles/SELIC_vs_Stocks/blob/main/SELIC_VS_RENDA_VARIAVEL.ipynb\" target=\"_parent\"><img src=\"https://colab.research.google.com/assets/colab-badge.svg\" alt=\"Open In Colab\"/></a>"
      ]
    },
    {
      "cell_type": "markdown",
      "source": [
        "<div>\n",
        "  <img src=\"https://raw.githubusercontent.com/GeorgeTelles/georgetelles/f69531ec6b293b5148563588a764c010015d315e/logo_clara.png\" alt=\"logo clara\" width=\"300\" style=\"display: inline-block; vertical-align: top; margin-right: 10px;\">\n",
        "  <img src=\"https://raw.githubusercontent.com/GeorgeTelles/georgetelles/f69531ec6b293b5148563588a764c010015d315e/logo_dark.png\" alt=\"logo dark\" width=\"300\" style=\"display: inline-block; vertical-align: top;\">\n",
        "</div>"
      ],
      "metadata": {
        "id": "cdMxa6BzUAhr"
      }
    },
    {
      "cell_type": "markdown",
      "source": [
        "# Comparação de Rentabilidade: SELIC vs. Ativos de Renda Variável\n",
        "\n",
        "Este projeto em Python visa comparar a rentabilidade da taxa SELIC com a rentabilidade de alguns ativos de renda variável (ações) no mercado financeiro. Utilizando as bibliotecas `pandas`, `matplotlib`, `seaborn` e `yfinance`, o projeto analisa a variação percentual dos preços das ações e da SELIC ao longo do tempo.\n",
        "\n",
        "## Objetivo\n",
        "\n",
        "O objetivo é comparar o desempenho da SELIC com o desempenho de ativos de renda variável, como ações, para entender como a rentabilidade desses ativos se relaciona com a taxa de juros básica da economia.\n",
        "\n",
        "## Bibliotecas Utilizadas\n",
        "\n",
        "- **pandas**: Para manipulação e análise de dados.\n",
        "- **matplotlib**: Para criação de gráficos e visualizações.\n",
        "- **seaborn**: Para estilização e aprimoramento das visualizações.\n",
        "- **yfinance**: Para coleta de dados financeiros das ações.\n",
        "\n",
        "## Etapas do Projeto\n",
        "\n",
        "1. **Extração de Dados da SELIC**\n",
        "   - Obtém-se os dados da taxa SELIC do Banco Central do Brasil através da sua API.\n",
        "   - Ajusta-se os dados para a taxa percentual.\n",
        "\n",
        "2. **Coleta de Dados das Ações**\n",
        "   - Dados históricos mensais de três ativos (ITUB4, EMBR3, VALE3) são baixados usando `yfinance`.\n",
        "   - Calcula-se a rentabilidade mensal de cada ativo com base nas variações percentuais dos preços ajustados.\n",
        "\n",
        "3. **Preparação dos Dados**\n",
        "   - Ajusta-se e transforma-se os dados para calcular o acumulado das rentabilidades.\n",
        "   - O ajuste considera o crescimento acumulado dos preços ao longo do tempo.\n",
        "\n",
        "4. **Visualização dos Dados**\n",
        "   - **Gráfico de Linha**: Compara as rentabilidades acumuladas da SELIC e dos ativos de renda variável.\n",
        "   - **Mapa de Calor**: Exibe a correlação entre os retornos dos ativos e a SELIC.\n",
        "\n",
        "5. **Análise de Correlação**\n",
        "   - Calcula-se e exibe-se a correlação entre os retornos dos ativos e a SELIC para identificar possíveis padrões ou relações.\n",
        "\n",
        "## Resultados Esperados\n",
        "\n",
        "- Visualizações que mostram a comparação da rentabilidade acumulada da SELIC com a dos ativos de renda variável.\n",
        "- Análise da correlação entre a rentabilidade dos ativos e a SELIC para entender a relação entre eles.\n"
      ],
      "metadata": {
        "id": "U9HpRq4qlTW2"
      }
    },
    {
      "cell_type": "markdown",
      "source": [
        "#Importação de bibliotecas"
      ],
      "metadata": {
        "id": "i0Skv8l7lwdc"
      }
    },
    {
      "cell_type": "code",
      "execution_count": null,
      "metadata": {
        "id": "7s0E4WE-C3KV"
      },
      "outputs": [],
      "source": [
        "import pandas as pd\n",
        "import matplotlib.pyplot as plt\n",
        "import yfinance as yf\n",
        "import seaborn as sns"
      ]
    },
    {
      "cell_type": "markdown",
      "source": [
        "#Função de extração de dados da SELIC do BCB"
      ],
      "metadata": {
        "id": "MEP8q7Sul18p"
      }
    },
    {
      "cell_type": "code",
      "source": [
        "def extracao_bcb(codigo, data_inicio, data_fim):\n",
        "  url = \"https://api.bcb.gov.br/dados/serie/bcdata.sgs.{}/dados?formato=json&dataInicial={}&dataFinal={}\".format(codigo, data_inicio, data_fim)\n",
        "  df = pd.read_json(url)\n",
        "  df = df.set_index(\"data\")\n",
        "  df.index = pd.to_datetime(df.index, dayfirst=True)\n",
        "  df.columns = [\"SELIC\"]\n",
        "  df[\"SELIC\"] = df[\"SELIC\"] / 100\n",
        "  return df\n"
      ],
      "metadata": {
        "id": "Cp-tGN5_FEcn"
      },
      "execution_count": null,
      "outputs": []
    },
    {
      "cell_type": "markdown",
      "source": [
        "#Extraindo dados do BCB"
      ],
      "metadata": {
        "id": "pgJ2BKaAl6-y"
      }
    },
    {
      "cell_type": "code",
      "source": [
        "dados = extracao_bcb(4390, \"01/01/2010\", \"31/07/2024\")"
      ],
      "metadata": {
        "id": "FapK2YE3FxAd"
      },
      "execution_count": null,
      "outputs": []
    },
    {
      "cell_type": "markdown",
      "source": [
        "#Extraindo dados de Renda Variável: Cotação das ações"
      ],
      "metadata": {
        "id": "B2FFUA5zmm9F"
      }
    },
    {
      "cell_type": "code",
      "source": [
        "ativos = [\"ITUB4\", \"EMBR3\", \"VALE3\"]\n",
        "\n",
        "for i in ativos:\n",
        "  dados[i] = yf.download(i+\".SA\", start = \"2010-01-01\", end = \"2024-07-01\", interval=\"1mo\" )[\"Adj Close\"].pct_change()"
      ],
      "metadata": {
        "id": "qRULnDLnHb5O"
      },
      "execution_count": null,
      "outputs": []
    },
    {
      "cell_type": "markdown",
      "source": [
        "#Dados de rentabilidade da SELIC e das Ações"
      ],
      "metadata": {
        "id": "iVUJjJVTm0zd"
      }
    },
    {
      "cell_type": "code",
      "source": [
        "dados = dados[1:-1]\n",
        "dados = dados + 1\n",
        "dados"
      ],
      "metadata": {
        "id": "IYMaLpByK5yv"
      },
      "execution_count": null,
      "outputs": []
    },
    {
      "cell_type": "markdown",
      "source": [
        "#Retornos acumulados"
      ],
      "metadata": {
        "id": "mHTiw22JpOF2"
      }
    },
    {
      "cell_type": "code",
      "source": [
        "acumulado = dados.cumprod()\n",
        "acumulado = acumulado*100\n"
      ],
      "metadata": {
        "id": "hY5dihWGKMwG"
      },
      "execution_count": null,
      "outputs": []
    },
    {
      "cell_type": "markdown",
      "source": [
        "#Visualização dos dados"
      ],
      "metadata": {
        "id": "A0ZkUU4upQgt"
      }
    },
    {
      "cell_type": "code",
      "source": [
        "plt.figure(figsize=(15,6))\n",
        "sns.set_style(\"darkgrid\")\n",
        "sns.set_palette(\"mako\")\n",
        "plt.title(\"Ações vs SELIC\")\n",
        "sns.lineplot(data=acumulado)\n",
        "plt.show()"
      ],
      "metadata": {
        "id": "aR_H8GUqMCZ-"
      },
      "execution_count": null,
      "outputs": []
    },
    {
      "cell_type": "markdown",
      "source": [
        "#Corelação entre a Renda Fixa vs Renda Variável"
      ],
      "metadata": {
        "id": "WWI-23tgpToG"
      }
    },
    {
      "cell_type": "code",
      "source": [
        "acumulado.corr()"
      ],
      "metadata": {
        "id": "1XEWiY4LM9C-"
      },
      "execution_count": null,
      "outputs": []
    },
    {
      "cell_type": "code",
      "source": [
        "plt.figure(figsize=(8,6))\n",
        "plt.title(\"Correlação dos retornos entre os ativos\")\n",
        "sns.heatmap(data=acumulado.corr(), cmap=\"coolwarm\", fmt=\".2f\", linewidths=.5, annot=True)\n",
        "plt.show()"
      ],
      "metadata": {
        "id": "oTKK7adkNXt9"
      },
      "execution_count": null,
      "outputs": []
    }
  ]
}